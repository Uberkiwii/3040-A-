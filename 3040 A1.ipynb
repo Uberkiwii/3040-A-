{
 "cells": [
  {
   "cell_type": "markdown",
   "id": "653accff",
   "metadata": {},
   "source": [
    "<center><h1 style=\"font-family:Trebuchet MS\"> ITEC 3040 Assignment #1</h1></center>\n",
    "<center><h3 style=\"font-family:Trebuchet MS\">Han Song Wang </h3></center>\n",
    "<center><h3 style=\"font-family:Trebuchet MS\">216527582 </h3></center><br>"
   ]
  },
  {
   "cell_type": "markdown",
   "id": "9e33a98b",
   "metadata": {},
   "source": [
    "<hr>"
   ]
  },
  {
   "cell_type": "code",
   "execution_count": 8,
   "id": "22993376",
   "metadata": {},
   "outputs": [],
   "source": [
    "import numpy as np\n",
    "import pandas as pd\n",
    "import matplotlib.pyplot as plt\n",
    "import seaborn as sns\n",
    "import scipy.stats as stats\n",
    "import pylab\n",
    "import math\n",
    "import statsmodels.api as sm"
   ]
  },
  {
   "cell_type": "markdown",
   "id": "401a5f42",
   "metadata": {},
   "source": [
    "## 1.a"
   ]
  },
  {
   "cell_type": "code",
   "execution_count": 9,
   "id": "fa4c415d",
   "metadata": {},
   "outputs": [
    {
     "name": "stdout",
     "output_type": "stream",
     "text": [
      "[5.099, 5.325, 5.263, 6.563, 5.279, 5.413, 5.978, 5.872, 6.183, 5.105, 5.176, 5.314, 5.236, 5.09, 6.303, 5.204, 5.477, 5.927, 5.482, 6.493] \n",
      " [2.936, 2.701, 2.84, 3.991, 2.687, 2.716, 3.594, 3.472, 3.902, 2.941, 2.719, 2.777, 2.975, 2.715, 3.791, 2.96, 3.465, 3.438, 3.114, 3.857]\n"
     ]
    }
   ],
   "source": [
    "length=[5.099, 5.325, 5.263, 6.563, 5.279, 5.413, 5.978, 5.872, 6.183, 5.105, 5.176, 5.314, 5.236, 5.09, 6.303, 5.204, 5.477, 5.927, 5.482, 6.493]\n",
    "width=[2.936, 2.701, 2.84, 3.991, 2.687, 2.716, 3.594, 3.472, 3.902, 2.941, 2.719, 2.777, 2.975, 2.715, 3.791, 2.96, 3.465, 3.438, 3.114, 3.857]\n",
    "print(length,\"\\n\",\n",
    "      width)"
   ]
  },
  {
   "cell_type": "code",
   "execution_count": 22,
   "id": "e5e45880",
   "metadata": {
    "scrolled": false
   },
   "outputs": [
    {
     "name": "stdout",
     "output_type": "stream",
     "text": [
      "length:\n",
      "mean:   5.589099999999999\n",
      "median: 5.369\n",
      "std:    0.47663423083114786\n",
      "\n",
      "width:\n",
      "mean:   3.17955\n",
      "median: 2.9675000000000002\n",
      "std:    0.44839039630661137\n"
     ]
    }
   ],
   "source": [
    "#turning them into dataframes to be used for graphs later\n",
    "ldf = pd.DataFrame(length, columns = ['length'])\n",
    "wdf = pd.DataFrame(width, columns = ['width'])\n",
    "\n",
    "#mean calculation        \n",
    "lmean = np.mean(length)            \n",
    "wmean = np.mean(width) \n",
    "\n",
    "\n",
    "#median calculation\n",
    "lmed = np.median(length)\n",
    "wmed = np.median(width)\n",
    "\n",
    "#standard deviation calculation\n",
    "lstd = np.std(length)\n",
    "wstd = np.std(width)\n",
    "\n",
    "print(f\"length:\\nmean:   {lmean}\\nmedian: {lmed}\\nstd:    {lstd}\\n\")\n",
    "print(f\"width:\\nmean:   {wmean}\\nmedian: {wmed}\\nstd:    {wstd}\")"
   ]
  },
  {
   "cell_type": "markdown",
   "id": "369a77cb",
   "metadata": {},
   "source": [
    "If these values were to be calculated manually, mean would be the sum of the list divided by its length, median would be \n",
    "the middle value of an ordered list (or average of the two middle values in the case of an even number of values), and standard deviation would be the the square root fo the mean of the square of the difference between each value and the mean. <br>\n",
    "\n",
    "From the calculations we can see that the two lists (length and width) actually have similar standard deviation values. <br>\n",
    "Since both values are relatively low it suggests that the data is not very spread out. <br>"
   ]
  },
  {
   "cell_type": "markdown",
   "id": "ce25a650",
   "metadata": {},
   "source": [
    "<hr>"
   ]
  },
  {
   "cell_type": "markdown",
   "id": "116bfec2",
   "metadata": {},
   "source": [
    "## 1.b"
   ]
  },
  {
   "cell_type": "code",
   "execution_count": 11,
   "id": "a80c6044",
   "metadata": {},
   "outputs": [
    {
     "data": {
      "image/png": "[encoded data removed]",
      "text/plain": [
       "<Figure size 432x288 with 1 Axes>"
      ]
     },
     "metadata": {
      "needs_background": "light"
     },
     "output_type": "display_data"
    }
   ],
   "source": [
    "#boxplots for length and width\n",
    "data = [length, width]\n",
    "box = plt.boxplot(data)"
   ]
  },
  {
   "cell_type": "markdown",
   "id": "41dfc5e6",
   "metadata": {},
   "source": [
    "From the boxplots, it seems like both datasets are skewed towards the lower values, which may suggest that those lower \n",
    "length / widths are closer together than the higher values. <br>\n",
    "The lower median line also suggests that both sets are positively skewed"
   ]
  },
  {
   "cell_type": "markdown",
   "id": "3034dfeb",
   "metadata": {},
   "source": [
    "<hr>"
   ]
  },
  {
   "cell_type": "markdown",
   "id": "74306e87",
   "metadata": {},
   "source": [
    "## 1.c"
   ]
  },
  {
   "cell_type": "code",
   "execution_count": 12,
   "id": "ba2a0234",
   "metadata": {},
   "outputs": [
    {
     "data": {
      "image/png": "[encoded data removed]",
      "text/plain": [
       "<Figure size 432x288 with 1 Axes>"
      ]
     },
     "metadata": {
      "needs_background": "light"
     },
     "output_type": "display_data"
    }
   ],
   "source": [
    "#scatterplot for length and width\n",
    "plt.scatter(length, width)\n",
    "plt.show()"
   ]
  },
  {
   "cell_type": "code",
   "execution_count": 39,
   "id": "d3405697",
   "metadata": {},
   "outputs": [
    {
     "name": "stderr",
     "output_type": "stream",
     "text": [
      "C:\\Users\\henry\\anaconda3\\lib\\site-packages\\statsmodels\\graphics\\gofplots.py:993: UserWarning: marker is redundantly defined by the 'marker' keyword argument and the fmt string \"bo\" (-> marker='o'). The keyword argument will take precedence.\n",
      "  ax.plot(x, y, fmt, **plot_style)\n"
     ]
    },
    {
     "data": {
      "image/png": "[encoded data removed]",
      "text/plain": [
       "<Figure size 432x288 with 1 Axes>"
      ]
     },
     "metadata": {
      "needs_background": "light"
     },
     "output_type": "display_data"
    }
   ],
   "source": [
    "#q-q plot of length and width\n",
    "l2 = np.array(length)\n",
    "w2 = np.array(width)\n",
    "lp = sm.ProbPlot(l2, fit=True)\n",
    "wp = sm.ProbPlot(w2, fit=True)\n",
    "fig = wp.qqplot(other=lp, line='45')"
   ]
  },
  {
   "cell_type": "markdown",
   "id": "a4838260",
   "metadata": {},
   "source": [
    "From the graphs it seems like the two datasets have a positive association with a linear relationship."
   ]
  },
  {
   "cell_type": "markdown",
   "id": "acc67e1b",
   "metadata": {},
   "source": [
    "<hr>"
   ]
  },
  {
   "cell_type": "markdown",
   "id": "39167855",
   "metadata": {},
   "source": [
    "## 1.d"
   ]
  },
  {
   "cell_type": "markdown",
   "id": "4cc17ffb",
   "metadata": {},
   "source": [
    "From the boxplot, it seems like length has its first quartile at about 5.2 and its third quartile at about 5.9."
   ]
  },
  {
   "cell_type": "markdown",
   "id": "129c90c9",
   "metadata": {},
   "source": [
    "<hr>"
   ]
  },
  {
   "cell_type": "markdown",
   "id": "181094ad",
   "metadata": {},
   "source": [
    "## 1.e"
   ]
  },
  {
   "cell_type": "markdown",
   "id": "2bd334dc",
   "metadata": {},
   "source": [
    "A q-q plot graphs the quantiles of one distribution against the quantiles of another distribution,\n",
    "whereas a quantile plot does not."
   ]
  },
  {
   "cell_type": "markdown",
   "id": "238900e1",
   "metadata": {},
   "source": [
    "<hr>"
   ]
  },
  {
   "cell_type": "markdown",
   "id": "0d2b032c",
   "metadata": {},
   "source": [
    "## 1.f"
   ]
  },
  {
   "cell_type": "code",
   "execution_count": 11,
   "id": "5d301743",
   "metadata": {},
   "outputs": [
    {
     "name": "stdout",
     "output_type": "stream",
     "text": [
      "[[1.         0.92889063]\n",
      " [0.92889063 1.        ]]\n"
     ]
    }
   ],
   "source": [
    "#corr-coef calculation\n",
    "r = np.corrcoef(length, width) \n",
    "print(r)"
   ]
  },
  {
   "cell_type": "markdown",
   "id": "b69431e0",
   "metadata": {},
   "source": [
    "<hr>"
   ]
  },
  {
   "cell_type": "markdown",
   "id": "ee9f8717",
   "metadata": {},
   "source": [
    "## 1.g"
   ]
  },
  {
   "cell_type": "code",
   "execution_count": 12,
   "id": "69eb2ca2",
   "metadata": {},
   "outputs": [
    {
     "name": "stdout",
     "output_type": "stream",
     "text": [
      "-0.5431650677760265\n",
      "-1.067261930544929\n",
      "-0.7572642117156635\n",
      "1.8096953161439413\n",
      "-1.0984847223694598\n",
      "-1.0338089393043604\n",
      "0.9243061479769009\n",
      "0.6522218192202793\n",
      "1.6112075681165698\n",
      "-0.5320140706958373\n",
      "-1.0271183410562474\n",
      "-0.8977667749260496\n",
      "-0.4561872905505487\n",
      "-1.036039138720399\n",
      "1.3636554329363642\n",
      "-0.4896402817911172\n",
      "0.6366104233080139\n",
      "0.5763950390749918\n",
      "-0.14618957172128327\n",
      "1.510848594394865\n"
     ]
    }
   ],
   "source": [
    "#z-score normalization\n",
    "for index in range(len(width)):\n",
    "    z = (width[index] - wmean) / wstd\n",
    "    print(z)"
   ]
  },
  {
   "cell_type": "markdown",
   "id": "16cbb788",
   "metadata": {},
   "source": [
    "<hr>"
   ]
  },
  {
   "cell_type": "markdown",
   "id": "69b6896b",
   "metadata": {},
   "source": [
    "## 1.h"
   ]
  },
  {
   "cell_type": "code",
   "execution_count": 13,
   "id": "d79aa44c",
   "metadata": {},
   "outputs": [
    {
     "name": "stdout",
     "output_type": "stream",
     "text": [
      "0.4195299999999997\n"
     ]
    }
   ],
   "source": [
    "#finding mean absolute deviation\n",
    "series = pd.Series(length)\n",
    "abmean = series.mad()\n",
    "print(abmean)"
   ]
  },
  {
   "cell_type": "code",
   "execution_count": 14,
   "id": "6913798e",
   "metadata": {},
   "outputs": [
    {
     "name": "stdout",
     "output_type": "stream",
     "text": [
      "9.81773799972362\n",
      "10.29189613898673\n",
      "10.161817357418974\n",
      "12.889275680613844\n",
      "10.19538607524291\n",
      "10.476524087018383\n",
      "11.661919435176152\n",
      "11.439526679592571\n",
      "12.092018632295344\n",
      "9.830326268907598\n",
      "9.979287454251317\n",
      "10.268817645482773\n",
      "10.10517014609108\n",
      "9.798855595947655\n",
      "12.34378401597487\n",
      "10.038032710443206\n",
      "10.61079895831413\n",
      "11.554919147112354\n",
      "10.62128918263411\n",
      "12.742412540134122\n"
     ]
    }
   ],
   "source": [
    "#z-score normalization using mean absolute dev\n",
    "for index in range(len(length)):\n",
    "    z = (length[index] - abmean) / lstd\n",
    "    print(z)"
   ]
  },
  {
   "cell_type": "markdown",
   "id": "c8a2be7b",
   "metadata": {},
   "source": [
    "<hr>"
   ]
  },
  {
   "cell_type": "markdown",
   "id": "523e4516",
   "metadata": {},
   "source": [
    "## 2"
   ]
  },
  {
   "cell_type": "markdown",
   "id": "57c77f72",
   "metadata": {},
   "source": [
    "![2](https://i.imgur.com/GM8Sclu.png)"
   ]
  },
  {
   "cell_type": "markdown",
   "id": "b6b4f3a9",
   "metadata": {},
   "source": [
    "## 2.a"
   ]
  },
  {
   "cell_type": "markdown",
   "id": "581889c8",
   "metadata": {},
   "source": [
    "<b>Euclidean distance calculation:</b>\n",
    "\n",
    "<i>d(i,j)</i> = &#8730; (| x <sub>i1</sub> - x <sub>j1</sub> |<sup>2</sup> + | x <sub>in</sub> - x <sub>jn</sub> |<sup>2</sup>)\n",
    "\n",
    "<b>For the given datapoints:</b><br>\n",
    "\n",
    "<i>d(x,x1)</i> = &#8730; (| 1.5-1.4 |<sup>2</sup> + | 1.7-1.6 |<sup>2</sup>) <br> = 0.1414\n",
    "\n",
    "<i>d(x,x2)</i> = &#8730; (| 2-1.4 |<sup>2</sup> + | 1.9-1.6 |<sup>2</sup>) <br> = 0.6708\n",
    "\n",
    "<i>d(x,x3)</i> = &#8730; (| 1.6-1.4 |<sup>2</sup> + | 1.8-1.6 |<sup>2</sup>) <br> = 0.2828\n",
    "\n",
    "<i>d(x,x4)</i> = &#8730; (| 1.2-1.4 |<sup>2</sup> + | 1.5-1.6 |<sup>2</sup>) <br> = 0.2236\n",
    "\n",
    "<i>d(x,x5)</i> = &#8730; (| 1.5-1.4 |<sup>2</sup> + | 1.0-1.6 |<sup>2</sup>) <br> = 0.6082\n",
    "\n",
    "<b>Therefore, the order based on euclidean distance would be: x1, x4, x3, x5, x2</b>\n",
    "<hr>\n",
    "\n",
    "<b>Manhattan distance calculation:</b>\n",
    "\n",
    "<i>d(i,j)</i> = (| x <sub>i1</sub> - x <sub>j1</sub> | + | x <sub>in</sub> - x <sub>jn</sub> |)\n",
    "\n",
    "<b>For the given datapoints:</b>\n",
    "\n",
    "<i>d(x,x1)</i> = (| 1.5 - 1.4 | + | 1.7 - 1.6 |)<br> = 0.2\n",
    "\n",
    "<i>d(x,x2)</i> = (| 2 - 1.4 | + | 1.9 - 1.6 |)<br> = 0.9\n",
    "\n",
    "<i>d(x,x3)</i> = (| 1.6 - 1.4 | + | 1.8 - 1.6 |)<br> = 0.4\n",
    "\n",
    "<i>d(x,x4)</i> = (| 1.2 - 1.4 | + | 1.5 - 1.6 |)<br> = 0.3\n",
    "\n",
    "<i>d(x,x5)</i> = (| 1.5 - 1.4 | + | 1.0 - 1.6 |)<br> = 0.7\n",
    "\n",
    "<b>Therefore, the order based on manhattan distance would be: x1, x4, x3, x5, x2</b>\n",
    "<hr>\n",
    "\n",
    "<b>Supremum distance calculation:</b>\n",
    "\n",
    "<p>Take the maximum distance difference between the vectors\n",
    "\n",
    "<b>For the given datapoints:</b>\n",
    "\n",
    "<i>d(x,x1)</i> =  0.1\n",
    "\n",
    "<i>d(x,x2)</i> =  0.6\n",
    "\n",
    "<i>d(x,x3)</i> =  0.2\n",
    "\n",
    "<i>d(x,x4)</i> =  0.2\n",
    "\n",
    "<i>d(x,x5)</i> =  0.6\n",
    "\n",
    "<b>Therefore, the order based on supremum distance would be: x1, x4, x3, x5, x2</b>\n",
    "<hr>\n",
    "\n",
    "<b>Cosine similarity calculation:</b>\n",
    "\n",
    "<i>cos(i,j)</i> = (i • j) /(|| i || || j || )\n",
    "\n",
    "<b>For the given datapoints:</b>\n",
    "\n",
    "<i>cos(x,x1)</i> = (x • x1) /(|| x || || x1 || ) <br>\n",
    "<p>= (1.4 * 1.5) + (1.6 * 1.7) / &#8730;(1.4<sup>2</sup> + 1.6<sup>2</sup>)&#8730;(1.5<sup>2</sup> + 1.7<sup>2</sup>)</p>\n",
    "\n",
    "= 0.99999\n",
    "\n",
    "<i>cos(x,x2)</i> = (x • x2) /(|| x || || x2 || ) <br>\n",
    "<p>= (1.4 * 2) + (1.6 * 1.9) / &#8730;(1.4<sup>2</sup> + 1.6<sup>2</sup>)&#8730;(2<sup>2</sup> + 1.9<sup>2</sup>)</p>\n",
    "\n",
    "= 0.99575\n",
    "\n",
    "<i>cos(x,x3)</i> = (x • x3) /(|| x || || x3 || ) <br>\n",
    "<p>= (1.4 * 1.6) + (1.6 * 1.8) / &#8730;(1.4<sup>2</sup> + 1.6<sup>2</sup>)&#8730;(1.6<sup>2</sup> + 1.8<sup>2</sup>)</p>\n",
    "\n",
    "= 0.99997\n",
    "\n",
    "<i>cos(x,x4)</i> = (x • x4) /(|| x || || x4 || ) <br>\n",
    "<p>= (1.4 * 1.2) + (1.6 * 1.5) / &#8730;(1.4<sup>2</sup> + 1.6<sup>2</sup>)&#8730;(1.2<sup>2</sup> + 1.5<sup>2</sup>)</p>\n",
    "\n",
    "= 0.99903\n",
    "\n",
    "<i>cos(x,x5)</i> = (x • x5) /(|| x || || x5 || ) <br>\n",
    "<p>= (1.4 * 1.5) + (1.6 * 1.0) / &#8730;(1.4<sup>2</sup> + 1.6<sup>2</sup>)&#8730;(1.5<sup>2</sup> + 1.0<sup>2</sup>)</p>\n",
    "\n",
    "= 0.96536\n",
    "\n",
    "<b>Therefore, the order based on cosine similarity would be: x1, x3, x4, x2, x5</b>\n",
    "<hr>"
   ]
  },
  {
   "cell_type": "markdown",
   "id": "75845721",
   "metadata": {},
   "source": [
    "## 2.b"
   ]
  },
  {
   "cell_type": "markdown",
   "id": "c02de8bd",
   "metadata": {},
   "source": [
    "<b>Normalize the data points:<b><br>\n",
    "\n",
    "x = &#8730;(1.4<sup>2</sup> + 1.6<sup>2</sup>) = 2.1260 <br>\n",
    "\n",
    "(1.4 / 2.1260, 1.6 / 2.126) = (0.6585, 0.7526)<br><br>\n",
    "\n",
    "\n",
    "x1 = &#8730;(1.5<sup>2</sup> + 1.7<sup>2</sup>) = 2.2671 <br>\n",
    "\n",
    "(1.5 / 2.267, 1.7 / 2.267) = (0.6616, 0.7498)<br><br>\n",
    "\n",
    "\n",
    "x2 = &#8730;(2<sup>2</sup> + 1.9<sup>2</sup>) = 2.7586 <br>\n",
    "\n",
    "(2 / 2.7586, 1.9 / 2.7586) = (0.7250, 0.6887)<br><br>\n",
    "\n",
    "\n",
    "x3 = &#8730;(1.6<sup>2</sup> + 1.8<sup>2</sup>) = 2.4083 <br>\n",
    "\n",
    "(1.6 / 2.4083, 1.8 / 2.4083) = (0.6643, 0.7474)<br><br>\n",
    "\n",
    "\n",
    "x4 = &#8730;(1.2<sup>2</sup> + 1.5<sup>2</sup>) = 1.9209 <br>\n",
    "\n",
    "(1.2 / 1.920, 1.5 / 1.920) = (0.6247, 0.7809)<br><br>\n",
    "\n",
    "\n",
    "x5 = &#8730;(1.5<sup>2</sup> + 1.0<sup>2</sup>) = 1.8027 <br>\n",
    "\n",
    "(1.5 / 1.8027, 1.0 / 1.8027) = (0.8321, 0.5547)<br><br>\n",
    "\n",
    "<b>Calculate new euclidean distances:<b><br>\n",
    "    \n",
    "x1 = 0.0041<br>\n",
    "x2 = 0.0922<br>\n",
    "x3 = 0.0078<br>\n",
    "x4 = 0.0441<br>\n",
    "x5 = 0.2632<br>\n",
    "    \n",
    "<b>Therefore, the order based on the normalized euclidean distance would be: x1, x3, x4, x2, x5</b>\n",
    "<hr>"
   ]
  }
 ],
 "metadata": {
  "kernelspec": {
   "display_name": "Python 3 (ipykernel)",
   "language": "python",
   "name": "python3"
  },
  "language_info": {
   "codemirror_mode": {
    "name": "ipython",
    "version": 3
   },
   "file_extension": ".py",
   "mimetype": "text/x-python",
   "name": "python",
   "nbconvert_exporter": "python",
   "pygments_lexer": "ipython3",
   "version": "3.8.13"
  }
 },
 "nbformat": 4,
 "nbformat_minor": 5
}
